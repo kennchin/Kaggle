{
 "cells": [
  {
   "cell_type": "code",
   "execution_count": 2,
   "metadata": {
    "collapsed": false
   },
   "outputs": [],
   "source": [
    "#import packages\n",
    "import numpy as np\n",
    "import pandas as pd\n",
    "import csv as csv\n",
    "from sklearn.linear_model import LogisticRegression\n",
    "from sklearn.multiclass import OneVsRestClassifier\n",
    "from sklearn.multiclass import OneVsOneClassifier\n",
    "from sklearn.cross_validation import train_test_split"
   ]
  },
  {
   "cell_type": "code",
   "execution_count": 3,
   "metadata": {
    "collapsed": false
   },
   "outputs": [
    {
     "ename": "ValueError",
     "evalue": "Unexpected character found when decoding 'true'",
     "output_type": "error",
     "traceback": [
      "\u001b[0;31m---------------------------------------------------------------------------\u001b[0m",
      "\u001b[0;31mValueError\u001b[0m                                Traceback (most recent call last)",
      "\u001b[0;32m<ipython-input-3-2f125586c76a>\u001b[0m in \u001b[0;36m<module>\u001b[0;34m()\u001b[0m\n\u001b[1;32m      1\u001b[0m \u001b[0;31m#read data\u001b[0m\u001b[0;34m\u001b[0m\u001b[0;34m\u001b[0m\u001b[0m\n\u001b[0;32m----> 2\u001b[0;31m \u001b[0mdata\u001b[0m \u001b[0;34m=\u001b[0m \u001b[0mpd\u001b[0m\u001b[0;34m.\u001b[0m\u001b[0mread_json\u001b[0m\u001b[0;34m(\u001b[0m\u001b[0;34m\"train.json\"\u001b[0m\u001b[0;34m)\u001b[0m\u001b[0;34m\u001b[0m\u001b[0m\n\u001b[0m",
      "\u001b[0;32m/Users/Ken/anaconda/lib/python3.5/site-packages/pandas/io/json.py\u001b[0m in \u001b[0;36mread_json\u001b[0;34m(path_or_buf, orient, typ, dtype, convert_axes, convert_dates, keep_default_dates, numpy, precise_float, date_unit)\u001b[0m\n\u001b[1;32m    209\u001b[0m         obj = FrameParser(json, orient, dtype, convert_axes, convert_dates,\n\u001b[1;32m    210\u001b[0m                           \u001b[0mkeep_default_dates\u001b[0m\u001b[0;34m,\u001b[0m \u001b[0mnumpy\u001b[0m\u001b[0;34m,\u001b[0m \u001b[0mprecise_float\u001b[0m\u001b[0;34m,\u001b[0m\u001b[0;34m\u001b[0m\u001b[0m\n\u001b[0;32m--> 211\u001b[0;31m                           date_unit).parse()\n\u001b[0m\u001b[1;32m    212\u001b[0m \u001b[0;34m\u001b[0m\u001b[0m\n\u001b[1;32m    213\u001b[0m     \u001b[0;32mif\u001b[0m \u001b[0mtyp\u001b[0m \u001b[0;34m==\u001b[0m \u001b[0;34m'series'\u001b[0m \u001b[0;32mor\u001b[0m \u001b[0mobj\u001b[0m \u001b[0;32mis\u001b[0m \u001b[0;32mNone\u001b[0m\u001b[0;34m:\u001b[0m\u001b[0;34m\u001b[0m\u001b[0m\n",
      "\u001b[0;32m/Users/Ken/anaconda/lib/python3.5/site-packages/pandas/io/json.py\u001b[0m in \u001b[0;36mparse\u001b[0;34m(self)\u001b[0m\n\u001b[1;32m    277\u001b[0m \u001b[0;34m\u001b[0m\u001b[0m\n\u001b[1;32m    278\u001b[0m         \u001b[0;32melse\u001b[0m\u001b[0;34m:\u001b[0m\u001b[0;34m\u001b[0m\u001b[0m\n\u001b[0;32m--> 279\u001b[0;31m             \u001b[0mself\u001b[0m\u001b[0;34m.\u001b[0m\u001b[0m_parse_no_numpy\u001b[0m\u001b[0;34m(\u001b[0m\u001b[0;34m)\u001b[0m\u001b[0;34m\u001b[0m\u001b[0m\n\u001b[0m\u001b[1;32m    280\u001b[0m \u001b[0;34m\u001b[0m\u001b[0m\n\u001b[1;32m    281\u001b[0m         \u001b[0;32mif\u001b[0m \u001b[0mself\u001b[0m\u001b[0;34m.\u001b[0m\u001b[0mobj\u001b[0m \u001b[0;32mis\u001b[0m \u001b[0;32mNone\u001b[0m\u001b[0;34m:\u001b[0m\u001b[0;34m\u001b[0m\u001b[0m\n",
      "\u001b[0;32m/Users/Ken/anaconda/lib/python3.5/site-packages/pandas/io/json.py\u001b[0m in \u001b[0;36m_parse_no_numpy\u001b[0;34m(self)\u001b[0m\n\u001b[1;32m    494\u001b[0m         \u001b[0;32mif\u001b[0m \u001b[0morient\u001b[0m \u001b[0;34m==\u001b[0m \u001b[0;34m\"columns\"\u001b[0m\u001b[0;34m:\u001b[0m\u001b[0;34m\u001b[0m\u001b[0m\n\u001b[1;32m    495\u001b[0m             self.obj = DataFrame(\n\u001b[0;32m--> 496\u001b[0;31m                 loads(json, precise_float=self.precise_float), dtype=None)\n\u001b[0m\u001b[1;32m    497\u001b[0m         \u001b[0;32melif\u001b[0m \u001b[0morient\u001b[0m \u001b[0;34m==\u001b[0m \u001b[0;34m\"split\"\u001b[0m\u001b[0;34m:\u001b[0m\u001b[0;34m\u001b[0m\u001b[0m\n\u001b[1;32m    498\u001b[0m             decoded = dict((str(k), v)\n",
      "\u001b[0;31mValueError\u001b[0m: Unexpected character found when decoding 'true'"
     ]
    }
   ],
   "source": [
    "#read data\n",
    "data = pd.read_json(\"train.json\")"
   ]
  },
  {
   "cell_type": "code",
   "execution_count": 5,
   "metadata": {
    "collapsed": false
   },
   "outputs": [
    {
     "data": {
      "text/html": [
       "<div>\n",
       "<table border=\"1\" class=\"dataframe\">\n",
       "  <thead>\n",
       "    <tr style=\"text-align: right;\">\n",
       "      <th></th>\n",
       "      <th>bathrooms</th>\n",
       "      <th>bedrooms</th>\n",
       "      <th>building_id</th>\n",
       "      <th>created</th>\n",
       "      <th>description</th>\n",
       "      <th>display_address</th>\n",
       "      <th>features</th>\n",
       "      <th>interest_level</th>\n",
       "      <th>latitude</th>\n",
       "      <th>listing_id</th>\n",
       "      <th>longitude</th>\n",
       "      <th>manager_id</th>\n",
       "      <th>photos</th>\n",
       "      <th>price</th>\n",
       "      <th>street_address</th>\n",
       "    </tr>\n",
       "  </thead>\n",
       "  <tbody>\n",
       "    <tr>\n",
       "      <th>10.0</th>\n",
       "      <td>1.5</td>\n",
       "      <td>3</td>\n",
       "      <td>53a5b119ba8f7b61d4e010512e0dfc85</td>\n",
       "      <td>2016-06-24 07:54:24</td>\n",
       "      <td>A Brand New 3 Bedroom 1.5 bath ApartmentEnjoy ...</td>\n",
       "      <td>Metropolitan Avenue</td>\n",
       "      <td>[]</td>\n",
       "      <td>medium</td>\n",
       "      <td>40.7145</td>\n",
       "      <td>7211212</td>\n",
       "      <td>-73.9425</td>\n",
       "      <td>5ba989232d0489da1b5f2c45f6688adc</td>\n",
       "      <td>[https://photos.renthop.com/2/7211212_1ed4542e...</td>\n",
       "      <td>3000</td>\n",
       "      <td>792 Metropolitan Avenue</td>\n",
       "    </tr>\n",
       "    <tr>\n",
       "      <th>10000.0</th>\n",
       "      <td>1.0</td>\n",
       "      <td>2</td>\n",
       "      <td>c5c8a357cba207596b04d1afd1e4f130</td>\n",
       "      <td>2016-06-12 12:19:27</td>\n",
       "      <td></td>\n",
       "      <td>Columbus Avenue</td>\n",
       "      <td>[Doorman, Elevator, Fitness Center, Cats Allow...</td>\n",
       "      <td>low</td>\n",
       "      <td>40.7947</td>\n",
       "      <td>7150865</td>\n",
       "      <td>-73.9667</td>\n",
       "      <td>7533621a882f71e25173b27e3139d83d</td>\n",
       "      <td>[https://photos.renthop.com/2/7150865_be3306c5...</td>\n",
       "      <td>5465</td>\n",
       "      <td>808 Columbus Avenue</td>\n",
       "    </tr>\n",
       "    <tr>\n",
       "      <th>100004.0</th>\n",
       "      <td>1.0</td>\n",
       "      <td>1</td>\n",
       "      <td>c3ba40552e2120b0acfc3cb5730bb2aa</td>\n",
       "      <td>2016-04-17 03:26:41</td>\n",
       "      <td>Top Top West Village location, beautiful Pre-w...</td>\n",
       "      <td>W 13 Street</td>\n",
       "      <td>[Laundry In Building, Dishwasher, Hardwood Flo...</td>\n",
       "      <td>high</td>\n",
       "      <td>40.7388</td>\n",
       "      <td>6887163</td>\n",
       "      <td>-74.0018</td>\n",
       "      <td>d9039c43983f6e564b1482b273bd7b01</td>\n",
       "      <td>[https://photos.renthop.com/2/6887163_de85c427...</td>\n",
       "      <td>2850</td>\n",
       "      <td>241 W 13 Street</td>\n",
       "    </tr>\n",
       "    <tr>\n",
       "      <th>100007.0</th>\n",
       "      <td>1.0</td>\n",
       "      <td>1</td>\n",
       "      <td>28d9ad350afeaab8027513a3e52ac8d5</td>\n",
       "      <td>2016-04-18 02:22:02</td>\n",
       "      <td>Building Amenities - Garage - Garden - fitness...</td>\n",
       "      <td>East 49th Street</td>\n",
       "      <td>[Hardwood Floors, No Fee]</td>\n",
       "      <td>low</td>\n",
       "      <td>40.7539</td>\n",
       "      <td>6888711</td>\n",
       "      <td>-73.9677</td>\n",
       "      <td>1067e078446a7897d2da493d2f741316</td>\n",
       "      <td>[https://photos.renthop.com/2/6888711_6e660cee...</td>\n",
       "      <td>3275</td>\n",
       "      <td>333 East 49th Street</td>\n",
       "    </tr>\n",
       "    <tr>\n",
       "      <th>100013.0</th>\n",
       "      <td>1.0</td>\n",
       "      <td>4</td>\n",
       "      <td>0</td>\n",
       "      <td>2016-04-28 01:32:41</td>\n",
       "      <td>Beautifully renovated 3 bedroom flex 4 bedroom...</td>\n",
       "      <td>West 143rd Street</td>\n",
       "      <td>[Pre-War]</td>\n",
       "      <td>low</td>\n",
       "      <td>40.8241</td>\n",
       "      <td>6934781</td>\n",
       "      <td>-73.9493</td>\n",
       "      <td>98e13ad4b495b9613cef886d79a6291f</td>\n",
       "      <td>[https://photos.renthop.com/2/6934781_1fa4b41a...</td>\n",
       "      <td>3350</td>\n",
       "      <td>500 West 143rd Street</td>\n",
       "    </tr>\n",
       "  </tbody>\n",
       "</table>\n",
       "</div>"
      ],
      "text/plain": [
       "          bathrooms  bedrooms                       building_id  \\\n",
       "10.0            1.5         3  53a5b119ba8f7b61d4e010512e0dfc85   \n",
       "10000.0         1.0         2  c5c8a357cba207596b04d1afd1e4f130   \n",
       "100004.0        1.0         1  c3ba40552e2120b0acfc3cb5730bb2aa   \n",
       "100007.0        1.0         1  28d9ad350afeaab8027513a3e52ac8d5   \n",
       "100013.0        1.0         4                                 0   \n",
       "\n",
       "                      created  \\\n",
       "10.0      2016-06-24 07:54:24   \n",
       "10000.0   2016-06-12 12:19:27   \n",
       "100004.0  2016-04-17 03:26:41   \n",
       "100007.0  2016-04-18 02:22:02   \n",
       "100013.0  2016-04-28 01:32:41   \n",
       "\n",
       "                                                description  \\\n",
       "10.0      A Brand New 3 Bedroom 1.5 bath ApartmentEnjoy ...   \n",
       "10000.0                                                       \n",
       "100004.0  Top Top West Village location, beautiful Pre-w...   \n",
       "100007.0  Building Amenities - Garage - Garden - fitness...   \n",
       "100013.0  Beautifully renovated 3 bedroom flex 4 bedroom...   \n",
       "\n",
       "              display_address  \\\n",
       "10.0      Metropolitan Avenue   \n",
       "10000.0       Columbus Avenue   \n",
       "100004.0          W 13 Street   \n",
       "100007.0     East 49th Street   \n",
       "100013.0    West 143rd Street   \n",
       "\n",
       "                                                   features interest_level  \\\n",
       "10.0                                                     []         medium   \n",
       "10000.0   [Doorman, Elevator, Fitness Center, Cats Allow...            low   \n",
       "100004.0  [Laundry In Building, Dishwasher, Hardwood Flo...           high   \n",
       "100007.0                          [Hardwood Floors, No Fee]            low   \n",
       "100013.0                                          [Pre-War]            low   \n",
       "\n",
       "          latitude  listing_id  longitude                        manager_id  \\\n",
       "10.0       40.7145     7211212   -73.9425  5ba989232d0489da1b5f2c45f6688adc   \n",
       "10000.0    40.7947     7150865   -73.9667  7533621a882f71e25173b27e3139d83d   \n",
       "100004.0   40.7388     6887163   -74.0018  d9039c43983f6e564b1482b273bd7b01   \n",
       "100007.0   40.7539     6888711   -73.9677  1067e078446a7897d2da493d2f741316   \n",
       "100013.0   40.8241     6934781   -73.9493  98e13ad4b495b9613cef886d79a6291f   \n",
       "\n",
       "                                                     photos  price  \\\n",
       "10.0      [https://photos.renthop.com/2/7211212_1ed4542e...   3000   \n",
       "10000.0   [https://photos.renthop.com/2/7150865_be3306c5...   5465   \n",
       "100004.0  [https://photos.renthop.com/2/6887163_de85c427...   2850   \n",
       "100007.0  [https://photos.renthop.com/2/6888711_6e660cee...   3275   \n",
       "100013.0  [https://photos.renthop.com/2/6934781_1fa4b41a...   3350   \n",
       "\n",
       "                   street_address  \n",
       "10.0      792 Metropolitan Avenue  \n",
       "10000.0       808 Columbus Avenue  \n",
       "100004.0          241 W 13 Street  \n",
       "100007.0     333 East 49th Street  \n",
       "100013.0    500 West 143rd Street  "
      ]
     },
     "execution_count": 5,
     "metadata": {},
     "output_type": "execute_result"
    }
   ],
   "source": [
    "data.head()"
   ]
  },
  {
   "cell_type": "code",
   "execution_count": 6,
   "metadata": {
    "collapsed": false
   },
   "outputs": [
    {
     "data": {
      "text/plain": [
       "count     49352\n",
       "unique     7585\n",
       "top           0\n",
       "freq       8286\n",
       "Name: building_id, dtype: object"
      ]
     },
     "execution_count": 6,
     "metadata": {},
     "output_type": "execute_result"
    }
   ],
   "source": [
    "data[\"building_id\"].describe()"
   ]
  },
  {
   "cell_type": "code",
   "execution_count": 8,
   "metadata": {
    "collapsed": false
   },
   "outputs": [
    {
     "data": {
      "text/plain": [
       "['bathrooms',\n",
       " 'bedrooms',\n",
       " 'building_id',\n",
       " 'created',\n",
       " 'description',\n",
       " 'display_address',\n",
       " 'features',\n",
       " 'interest_level',\n",
       " 'latitude',\n",
       " 'listing_id',\n",
       " 'longitude',\n",
       " 'manager_id',\n",
       " 'photos',\n",
       " 'price',\n",
       " 'street_address']"
      ]
     },
     "execution_count": 8,
     "metadata": {},
     "output_type": "execute_result"
    }
   ],
   "source": [
    "list(data)"
   ]
  },
  {
   "cell_type": "code",
   "execution_count": 1,
   "metadata": {
    "collapsed": false
   },
   "outputs": [
    {
     "ename": "NameError",
     "evalue": "name 'pd' is not defined",
     "output_type": "error",
     "traceback": [
      "\u001b[0;31m---------------------------------------------------------------------------\u001b[0m",
      "\u001b[0;31mNameError\u001b[0m                                 Traceback (most recent call last)",
      "\u001b[0;32m<ipython-input-1-48a00ba447ae>\u001b[0m in \u001b[0;36m<module>\u001b[0;34m()\u001b[0m\n\u001b[1;32m      2\u001b[0m \u001b[0;31m#bedroom is numeric\u001b[0m\u001b[0;34m\u001b[0m\u001b[0;34m\u001b[0m\u001b[0m\n\u001b[1;32m      3\u001b[0m \u001b[0;31m#created need to convert to python created\u001b[0m\u001b[0;34m\u001b[0m\u001b[0;34m\u001b[0m\u001b[0m\n\u001b[0;32m----> 4\u001b[0;31m \u001b[0mdata\u001b[0m\u001b[0;34m[\u001b[0m\u001b[0;34m'created'\u001b[0m\u001b[0;34m]\u001b[0m\u001b[0;34m=\u001b[0m\u001b[0mpd\u001b[0m\u001b[0;34m.\u001b[0m\u001b[0mto_datetime\u001b[0m\u001b[0;34m(\u001b[0m\u001b[0mdata\u001b[0m\u001b[0;34m[\u001b[0m\u001b[0;34m\"created\"\u001b[0m\u001b[0;34m]\u001b[0m\u001b[0;34m)\u001b[0m\u001b[0;34m\u001b[0m\u001b[0m\n\u001b[0m\u001b[1;32m      5\u001b[0m \u001b[0;31m#extract pieces\u001b[0m\u001b[0;34m\u001b[0m\u001b[0;34m\u001b[0m\u001b[0m\n\u001b[1;32m      6\u001b[0m \u001b[0mdata\u001b[0m\u001b[0;34m[\u001b[0m\u001b[0;34m'year'\u001b[0m\u001b[0;34m]\u001b[0m\u001b[0;34m=\u001b[0m\u001b[0mdata\u001b[0m\u001b[0;34m[\u001b[0m\u001b[0;34m'created'\u001b[0m\u001b[0;34m]\u001b[0m\u001b[0;34m.\u001b[0m\u001b[0mdt\u001b[0m\u001b[0;34m.\u001b[0m\u001b[0myear\u001b[0m\u001b[0;34m\u001b[0m\u001b[0m\n",
      "\u001b[0;31mNameError\u001b[0m: name 'pd' is not defined"
     ]
    }
   ],
   "source": [
    "#bathroom is numeric\n",
    "#bedroom is numeric\n",
    "#created need to convert to python created\n",
    "data['created']=pd.to_datetime(data[\"created\"])\n",
    "#extract pieces\n",
    "data['year']=data['created'].dt.year\n",
    "data['month']=data['created'].dt.month\n",
    "data['day']=data['created'].dt.day\n",
    "#description need to remove all empty spaces-number of characters\n",
    "data['desc_numc']=data['description'].apply(lambda x: len(x.replace(\" \",\"\")))\n",
    "#description to count the number of words\n",
    "data['desc_num']=data['description'].apply(lambda x: len(x.split()))\n",
    "#number of features\n",
    "data['features_num']=data[\"features\"].apply(len)\n",
    "#number of photos\n",
    "data['photos_num']=data['photos'].apply(len)\n"
   ]
  },
  {
   "cell_type": "code",
   "execution_count": 37,
   "metadata": {
    "collapsed": false
   },
   "outputs": [
    {
     "data": {
      "text/plain": [
       "10.0         494\n",
       "10000.0        0\n",
       "100004.0     598\n",
       "100007.0     413\n",
       "100013.0     412\n",
       "100014.0       0\n",
       "100016.0     493\n",
       "100020.0     815\n",
       "100026.0      21\n",
       "100027.0     887\n",
       "100030.0     141\n",
       "10004.0      586\n",
       "100044.0     590\n",
       "100048.0     486\n",
       "10005.0      484\n",
       "100051.0     419\n",
       "100052.0     297\n",
       "100053.0    1068\n",
       "100055.0       0\n",
       "100058.0       0\n",
       "100062.0     839\n",
       "100063.0     238\n",
       "100065.0       0\n",
       "100066.0     800\n",
       "10007.0      734\n",
       "100071.0     656\n",
       "100075.0     357\n",
       "100076.0     619\n",
       "100079.0     131\n",
       "100081.0     335\n",
       "            ... \n",
       "99915.0      466\n",
       "99917.0        0\n",
       "99919.0      597\n",
       "99921.0      361\n",
       "99923.0      419\n",
       "99924.0      645\n",
       "99931.0      149\n",
       "99933.0      566\n",
       "99935.0      581\n",
       "99937.0      297\n",
       "9994.0       436\n",
       "99953.0     1158\n",
       "99956.0      332\n",
       "99960.0      387\n",
       "99961.0      599\n",
       "99964.0      543\n",
       "99965.0      540\n",
       "99966.0      599\n",
       "99979.0        0\n",
       "99980.0      494\n",
       "99982.0      614\n",
       "99984.0      295\n",
       "99986.0      253\n",
       "99987.0      540\n",
       "99988.0      351\n",
       "9999.0       673\n",
       "99991.0      935\n",
       "99992.0      588\n",
       "99993.0      637\n",
       "99994.0      667\n",
       "Name: desc_numc, dtype: int64"
      ]
     },
     "execution_count": 37,
     "metadata": {},
     "output_type": "execute_result"
    }
   ],
   "source": [
    "list(data)\n",
    "data['desc_num']\n",
    "data['desc_numc']"
   ]
  },
  {
   "cell_type": "code",
   "execution_count": 35,
   "metadata": {
    "collapsed": true
   },
   "outputs": [],
   "source": [
    "#created need to convert to python created\n",
    "data['created']=pd.to_datetime(data[\"created\"])\n",
    "#extract pieces\n",
    "data['year']=data['created'].dt.year"
   ]
  },
  {
   "cell_type": "code",
   "execution_count": 34,
   "metadata": {
    "collapsed": false
   },
   "outputs": [],
   "source": [
    "pred = [\"bathrooms\",\"bedrooms\",\"year\",\"month\",\"day\",\"desc_num\",\"features_num\",\"price\",\"photos_num\",\"latitude\",\"longitude\"]\n",
    "predc = [\"bathrooms\",\"bedrooms\",\"year\",\"month\",\"day\",\"desc_numc\",\"features_num\",\"price\",\"photos_num\",\"latitude\",\"longitude\"]\n"
   ]
  },
  {
   "cell_type": "code",
   "execution_count": 14,
   "metadata": {
    "collapsed": false
   },
   "outputs": [
    {
     "data": {
      "text/plain": [
       "['bathrooms',\n",
       " 'bedrooms',\n",
       " 'year',\n",
       " 'month',\n",
       " 'day',\n",
       " 'desc_num',\n",
       " 'features_num',\n",
       " 'price',\n",
       " 'photos_num',\n",
       " 'latitude',\n",
       " 'longitude']"
      ]
     },
     "execution_count": 14,
     "metadata": {},
     "output_type": "execute_result"
    }
   ],
   "source": [
    "list(pred)"
   ]
  },
  {
   "cell_type": "code",
   "execution_count": 38,
   "metadata": {
    "collapsed": false
   },
   "outputs": [],
   "source": [
    "X=data[pred]\n",
    "X2=data[predc]\n",
    "Y=data['interest_level']\n",
    "\n",
    "#create dummy variable for Y\n",
    "y_dummies = pd.get_dummies(data['interest_level'])"
   ]
  },
  {
   "cell_type": "code",
   "execution_count": 39,
   "metadata": {
    "collapsed": false
   },
   "outputs": [
    {
     "data": {
      "text/html": [
       "<div>\n",
       "<table border=\"1\" class=\"dataframe\">\n",
       "  <thead>\n",
       "    <tr style=\"text-align: right;\">\n",
       "      <th></th>\n",
       "      <th>bathrooms</th>\n",
       "      <th>bedrooms</th>\n",
       "      <th>year</th>\n",
       "      <th>month</th>\n",
       "      <th>day</th>\n",
       "      <th>desc_num</th>\n",
       "      <th>features_num</th>\n",
       "      <th>price</th>\n",
       "      <th>photos_num</th>\n",
       "      <th>latitude</th>\n",
       "      <th>longitude</th>\n",
       "    </tr>\n",
       "  </thead>\n",
       "  <tbody>\n",
       "    <tr>\n",
       "      <th>10.0</th>\n",
       "      <td>1.5</td>\n",
       "      <td>3</td>\n",
       "      <td>2016</td>\n",
       "      <td>6</td>\n",
       "      <td>24</td>\n",
       "      <td>93</td>\n",
       "      <td>0</td>\n",
       "      <td>3000</td>\n",
       "      <td>5</td>\n",
       "      <td>40.7145</td>\n",
       "      <td>-73.9425</td>\n",
       "    </tr>\n",
       "    <tr>\n",
       "      <th>10000.0</th>\n",
       "      <td>1.0</td>\n",
       "      <td>2</td>\n",
       "      <td>2016</td>\n",
       "      <td>6</td>\n",
       "      <td>12</td>\n",
       "      <td>0</td>\n",
       "      <td>5</td>\n",
       "      <td>5465</td>\n",
       "      <td>11</td>\n",
       "      <td>40.7947</td>\n",
       "      <td>-73.9667</td>\n",
       "    </tr>\n",
       "    <tr>\n",
       "      <th>100004.0</th>\n",
       "      <td>1.0</td>\n",
       "      <td>1</td>\n",
       "      <td>2016</td>\n",
       "      <td>4</td>\n",
       "      <td>17</td>\n",
       "      <td>92</td>\n",
       "      <td>4</td>\n",
       "      <td>2850</td>\n",
       "      <td>8</td>\n",
       "      <td>40.7388</td>\n",
       "      <td>-74.0018</td>\n",
       "    </tr>\n",
       "    <tr>\n",
       "      <th>100007.0</th>\n",
       "      <td>1.0</td>\n",
       "      <td>1</td>\n",
       "      <td>2016</td>\n",
       "      <td>4</td>\n",
       "      <td>18</td>\n",
       "      <td>78</td>\n",
       "      <td>2</td>\n",
       "      <td>3275</td>\n",
       "      <td>3</td>\n",
       "      <td>40.7539</td>\n",
       "      <td>-73.9677</td>\n",
       "    </tr>\n",
       "    <tr>\n",
       "      <th>100013.0</th>\n",
       "      <td>1.0</td>\n",
       "      <td>4</td>\n",
       "      <td>2016</td>\n",
       "      <td>4</td>\n",
       "      <td>28</td>\n",
       "      <td>67</td>\n",
       "      <td>1</td>\n",
       "      <td>3350</td>\n",
       "      <td>3</td>\n",
       "      <td>40.8241</td>\n",
       "      <td>-73.9493</td>\n",
       "    </tr>\n",
       "  </tbody>\n",
       "</table>\n",
       "</div>"
      ],
      "text/plain": [
       "          bathrooms  bedrooms  year  month  day  desc_num  features_num  \\\n",
       "10.0            1.5         3  2016      6   24        93             0   \n",
       "10000.0         1.0         2  2016      6   12         0             5   \n",
       "100004.0        1.0         1  2016      4   17        92             4   \n",
       "100007.0        1.0         1  2016      4   18        78             2   \n",
       "100013.0        1.0         4  2016      4   28        67             1   \n",
       "\n",
       "          price  photos_num  latitude  longitude  \n",
       "10.0       3000           5   40.7145   -73.9425  \n",
       "10000.0    5465          11   40.7947   -73.9667  \n",
       "100004.0   2850           8   40.7388   -74.0018  \n",
       "100007.0   3275           3   40.7539   -73.9677  \n",
       "100013.0   3350           3   40.8241   -73.9493  "
      ]
     },
     "execution_count": 39,
     "metadata": {},
     "output_type": "execute_result"
    }
   ],
   "source": [
    "X.head()"
   ]
  },
  {
   "cell_type": "code",
   "execution_count": 40,
   "metadata": {
    "collapsed": false
   },
   "outputs": [
    {
     "data": {
      "text/html": [
       "<div>\n",
       "<table border=\"1\" class=\"dataframe\">\n",
       "  <thead>\n",
       "    <tr style=\"text-align: right;\">\n",
       "      <th></th>\n",
       "      <th>bathrooms</th>\n",
       "      <th>bedrooms</th>\n",
       "      <th>year</th>\n",
       "      <th>month</th>\n",
       "      <th>day</th>\n",
       "      <th>desc_numc</th>\n",
       "      <th>features_num</th>\n",
       "      <th>price</th>\n",
       "      <th>photos_num</th>\n",
       "      <th>latitude</th>\n",
       "      <th>longitude</th>\n",
       "    </tr>\n",
       "  </thead>\n",
       "  <tbody>\n",
       "    <tr>\n",
       "      <th>10.0</th>\n",
       "      <td>1.5</td>\n",
       "      <td>3</td>\n",
       "      <td>2016</td>\n",
       "      <td>6</td>\n",
       "      <td>24</td>\n",
       "      <td>494</td>\n",
       "      <td>0</td>\n",
       "      <td>3000</td>\n",
       "      <td>5</td>\n",
       "      <td>40.7145</td>\n",
       "      <td>-73.9425</td>\n",
       "    </tr>\n",
       "    <tr>\n",
       "      <th>10000.0</th>\n",
       "      <td>1.0</td>\n",
       "      <td>2</td>\n",
       "      <td>2016</td>\n",
       "      <td>6</td>\n",
       "      <td>12</td>\n",
       "      <td>0</td>\n",
       "      <td>5</td>\n",
       "      <td>5465</td>\n",
       "      <td>11</td>\n",
       "      <td>40.7947</td>\n",
       "      <td>-73.9667</td>\n",
       "    </tr>\n",
       "    <tr>\n",
       "      <th>100004.0</th>\n",
       "      <td>1.0</td>\n",
       "      <td>1</td>\n",
       "      <td>2016</td>\n",
       "      <td>4</td>\n",
       "      <td>17</td>\n",
       "      <td>598</td>\n",
       "      <td>4</td>\n",
       "      <td>2850</td>\n",
       "      <td>8</td>\n",
       "      <td>40.7388</td>\n",
       "      <td>-74.0018</td>\n",
       "    </tr>\n",
       "    <tr>\n",
       "      <th>100007.0</th>\n",
       "      <td>1.0</td>\n",
       "      <td>1</td>\n",
       "      <td>2016</td>\n",
       "      <td>4</td>\n",
       "      <td>18</td>\n",
       "      <td>413</td>\n",
       "      <td>2</td>\n",
       "      <td>3275</td>\n",
       "      <td>3</td>\n",
       "      <td>40.7539</td>\n",
       "      <td>-73.9677</td>\n",
       "    </tr>\n",
       "    <tr>\n",
       "      <th>100013.0</th>\n",
       "      <td>1.0</td>\n",
       "      <td>4</td>\n",
       "      <td>2016</td>\n",
       "      <td>4</td>\n",
       "      <td>28</td>\n",
       "      <td>412</td>\n",
       "      <td>1</td>\n",
       "      <td>3350</td>\n",
       "      <td>3</td>\n",
       "      <td>40.8241</td>\n",
       "      <td>-73.9493</td>\n",
       "    </tr>\n",
       "  </tbody>\n",
       "</table>\n",
       "</div>"
      ],
      "text/plain": [
       "          bathrooms  bedrooms  year  month  day  desc_numc  features_num  \\\n",
       "10.0            1.5         3  2016      6   24        494             0   \n",
       "10000.0         1.0         2  2016      6   12          0             5   \n",
       "100004.0        1.0         1  2016      4   17        598             4   \n",
       "100007.0        1.0         1  2016      4   18        413             2   \n",
       "100013.0        1.0         4  2016      4   28        412             1   \n",
       "\n",
       "          price  photos_num  latitude  longitude  \n",
       "10.0       3000           5   40.7145   -73.9425  \n",
       "10000.0    5465          11   40.7947   -73.9667  \n",
       "100004.0   2850           8   40.7388   -74.0018  \n",
       "100007.0   3275           3   40.7539   -73.9677  \n",
       "100013.0   3350           3   40.8241   -73.9493  "
      ]
     },
     "execution_count": 40,
     "metadata": {},
     "output_type": "execute_result"
    }
   ],
   "source": [
    "X2.head()"
   ]
  },
  {
   "cell_type": "code",
   "execution_count": 17,
   "metadata": {
    "collapsed": false
   },
   "outputs": [
    {
     "data": {
      "text/html": [
       "<div>\n",
       "<table border=\"1\" class=\"dataframe\">\n",
       "  <thead>\n",
       "    <tr style=\"text-align: right;\">\n",
       "      <th></th>\n",
       "      <th>high</th>\n",
       "      <th>low</th>\n",
       "      <th>medium</th>\n",
       "    </tr>\n",
       "  </thead>\n",
       "  <tbody>\n",
       "    <tr>\n",
       "      <th>10.0</th>\n",
       "      <td>0.0</td>\n",
       "      <td>0.0</td>\n",
       "      <td>1.0</td>\n",
       "    </tr>\n",
       "    <tr>\n",
       "      <th>10000.0</th>\n",
       "      <td>0.0</td>\n",
       "      <td>1.0</td>\n",
       "      <td>0.0</td>\n",
       "    </tr>\n",
       "    <tr>\n",
       "      <th>100004.0</th>\n",
       "      <td>1.0</td>\n",
       "      <td>0.0</td>\n",
       "      <td>0.0</td>\n",
       "    </tr>\n",
       "    <tr>\n",
       "      <th>100007.0</th>\n",
       "      <td>0.0</td>\n",
       "      <td>1.0</td>\n",
       "      <td>0.0</td>\n",
       "    </tr>\n",
       "    <tr>\n",
       "      <th>100013.0</th>\n",
       "      <td>0.0</td>\n",
       "      <td>1.0</td>\n",
       "      <td>0.0</td>\n",
       "    </tr>\n",
       "  </tbody>\n",
       "</table>\n",
       "</div>"
      ],
      "text/plain": [
       "          high  low  medium\n",
       "10.0       0.0  0.0     1.0\n",
       "10000.0    0.0  1.0     0.0\n",
       "100004.0   1.0  0.0     0.0\n",
       "100007.0   0.0  1.0     0.0\n",
       "100013.0   0.0  1.0     0.0"
      ]
     },
     "execution_count": 17,
     "metadata": {},
     "output_type": "execute_result"
    }
   ],
   "source": [
    "y_dummies.head()"
   ]
  },
  {
   "cell_type": "code",
   "execution_count": 42,
   "metadata": {
    "collapsed": false
   },
   "outputs": [],
   "source": [
    "# Split the data into test and training sets, with 30% of samples being put into the test set\n",
    "X_train, X_test, y_train, y_test = train_test_split(X, y_dummies, test_size=0.3, random_state=0)\n",
    "X2_train, X2_test, y2_train,y2_test = train_test_split(X2, y_dummies, test_size=0.3, random_state=0)"
   ]
  },
  {
   "cell_type": "code",
   "execution_count": 43,
   "metadata": {
    "collapsed": false
   },
   "outputs": [
    {
     "name": "stdout",
     "output_type": "stream",
     "text": [
      "One vs rest accuracy: 0.646\n",
      "One vs rest accuracy: 0.504\n"
     ]
    }
   ],
   "source": [
    "#train model\n",
    "OVR = OneVsRestClassifier(LogisticRegression()).fit(X_train,y_train)\n",
    "OVR2 =  OneVsRestClassifier(LogisticRegression()).fit(X2_train,y2_train)\n",
    "print (\"One vs rest accuracy: %0.3f\" % OVR.score(X_train,y_train))\n",
    "print (\"One vs rest accuracy: %0.3f\" % OVR.score(X2_train,y2_train))\n"
   ]
  },
  {
   "cell_type": "code",
   "execution_count": 180,
   "metadata": {
    "collapsed": false
   },
   "outputs": [],
   "source": [
    "#make prediction\n",
    "data_pred = pd.read_json(\"test.json\")\n",
    "data_pred['created']=pd.to_datetime(data_pred[\"created\"])\n",
    "#extract pieces\n",
    "data_pred['year']=data_pred['created'].dt.year\n",
    "data_pred['month']=data_pred['created'].dt.month\n",
    "data_pred['day']=data_pred['created'].dt.day\n",
    "#description need to remove all empty spaces-number of characters\n",
    "data_pred['desc_num']=data_pred['description'].apply(lambda x: len(x.replace(\" \",\"\")))\n",
    "#number of features\n",
    "data_pred['features_num']=data_pred[\"features\"].apply(len)\n",
    "#number of photos\n",
    "data_pred['photos_num']=data_pred['photos'].apply(len)\n",
    "pred_p = [\"bathrooms\",\"bedrooms\",\"year\",\"month\",\"day\",\"desc_num\",\"features_num\",\"price\",\"photos_num\",\"latitude\",\"longitude\"]\n",
    "\n",
    "X=data_pred[pred_p]\n",
    "y=OVR.predict_proba(X)\n",
    "ids = data_pred['listing_id'].values"
   ]
  },
  {
   "cell_type": "code",
   "execution_count": 181,
   "metadata": {
    "collapsed": false
   },
   "outputs": [
    {
     "data": {
      "text/plain": [
       "array([[ 0.07353375,  0.67795358,  0.23361522],\n",
       "       [ 0.09152511,  0.65354057,  0.23874319],\n",
       "       [ 0.03205053,  0.80217769,  0.16274755],\n",
       "       ..., \n",
       "       [ 0.07960115,  0.69021643,  0.23178132],\n",
       "       [ 0.17849543,  0.50427499,  0.33281773],\n",
       "       [ 0.09235113,  0.61868694,  0.27039312]])"
      ]
     },
     "execution_count": 181,
     "metadata": {},
     "output_type": "execute_result"
    }
   ],
   "source": [
    "y"
   ]
  },
  {
   "cell_type": "code",
   "execution_count": 217,
   "metadata": {
    "collapsed": false
   },
   "outputs": [
    {
     "data": {
      "text/plain": [
       "pandas.core.series.Series"
      ]
     },
     "execution_count": 217,
     "metadata": {},
     "output_type": "execute_result"
    }
   ],
   "source": [
    "ids = data_pred['listing_id']\n",
    "type(ids)"
   ]
  },
  {
   "cell_type": "code",
   "execution_count": 218,
   "metadata": {
    "collapsed": false
   },
   "outputs": [
    {
     "data": {
      "text/plain": [
       "numpy.float64"
      ]
     },
     "execution_count": 218,
     "metadata": {},
     "output_type": "execute_result"
    }
   ],
   "source": [
    "complete = np.column_stack((ids,y))\n",
    "type(complete[1,1])"
   ]
  },
  {
   "cell_type": "code",
   "execution_count": 212,
   "metadata": {
    "collapsed": false
   },
   "outputs": [],
   "source": [
    "#Create Kaggle submission\n",
    "# Create a csv\n",
    "submission_file = open(\"submission.csv\", \"w\")\n",
    "\n",
    "# Write to that csv\n",
    "open_file_object = csv.writer(submission_file)\n",
    "\n",
    "# Write the header of the csv\n",
    "open_file_object.writerow([\"listing_id\",\"high\",\"medium\",\"low\"])\n",
    "\n",
    "\n",
    "# Write the rows of the csv\n",
    "for x in complete : \n",
    "    open_file_object.writerows([x])\n",
    "\n",
    "# Close the file\n",
    "submission_file.close()"
   ]
  },
  {
   "cell_type": "code",
   "execution_count": 235,
   "metadata": {
    "collapsed": true
   },
   "outputs": [],
   "source": [
    "sub = pd.DataFrame()\n",
    "sub['listing_id'] = data_pred['listing_id']\n",
    "sub.to_csv(\"submission_rf.csv\", index=False)"
   ]
  },
  {
   "cell_type": "code",
   "execution_count": 231,
   "metadata": {
    "collapsed": false
   },
   "outputs": [],
   "source": []
  },
  {
   "cell_type": "code",
   "execution_count": 234,
   "metadata": {
    "collapsed": false
   },
   "outputs": [
    {
     "data": {
      "text/plain": [
       "0        0.751487\n",
       "1        0.745066\n",
       "2        0.834228\n",
       "3        0.605093\n",
       "4        0.722567\n",
       "5        0.975982\n",
       "6        0.697479\n",
       "7        0.769705\n",
       "8        0.759186\n",
       "9        0.838157\n",
       "10       0.936540\n",
       "11       0.737488\n",
       "12       0.826739\n",
       "13       0.878140\n",
       "14       0.826444\n",
       "15       0.742600\n",
       "16       0.795770\n",
       "17       0.931696\n",
       "18       0.818223\n",
       "19       0.611105\n",
       "20       0.807242\n",
       "21       0.671022\n",
       "22       0.793542\n",
       "23       0.664501\n",
       "24       0.779139\n",
       "25       0.823788\n",
       "26       0.907610\n",
       "27       0.770576\n",
       "28       0.711881\n",
       "29       0.702038\n",
       "           ...   \n",
       "74629    0.566674\n",
       "74630    0.674158\n",
       "74631    0.757828\n",
       "74632    0.799582\n",
       "74633    0.762636\n",
       "74634    0.824582\n",
       "74635    0.868884\n",
       "74636    0.908438\n",
       "74637    0.596119\n",
       "74638    0.729753\n",
       "74639    0.986091\n",
       "74640    0.852846\n",
       "74641    0.629230\n",
       "74642    0.828876\n",
       "74643    0.687540\n",
       "74644    0.961690\n",
       "74645    0.693951\n",
       "74646    0.818669\n",
       "74647    0.811944\n",
       "74648    0.646556\n",
       "74649    0.770424\n",
       "74650    0.673333\n",
       "74651    0.986333\n",
       "74652    0.692435\n",
       "74653    0.924478\n",
       "74654    0.692532\n",
       "74655    0.903831\n",
       "74656    0.769818\n",
       "74657    0.682770\n",
       "74658    0.711038\n",
       "dtype: float64"
      ]
     },
     "execution_count": 234,
     "metadata": {},
     "output_type": "execute_result"
    }
   ],
   "source": []
  },
  {
   "cell_type": "code",
   "execution_count": 1,
   "metadata": {
    "collapsed": false
   },
   "outputs": [
    {
     "data": {
      "text/plain": [
       "['hello', 'world']"
      ]
     },
     "execution_count": 1,
     "metadata": {},
     "output_type": "execute_result"
    }
   ],
   "source": [
    "\"hello world\".split()"
   ]
  },
  {
   "cell_type": "code",
   "execution_count": 29,
   "metadata": {
    "collapsed": false
   },
   "outputs": [
    {
     "ename": "SyntaxError",
     "evalue": "Missing parentheses in call to 'print' (<ipython-input-29-5b607169695d>, line 1)",
     "output_type": "error",
     "traceback": [
      "\u001b[0;36m  File \u001b[0;32m\"<ipython-input-29-5b607169695d>\"\u001b[0;36m, line \u001b[0;32m1\u001b[0m\n\u001b[0;31m    print \"One vs rest accuracy: %f\"\u001b[0m\n\u001b[0m                                   ^\u001b[0m\n\u001b[0;31mSyntaxError\u001b[0m\u001b[0;31m:\u001b[0m Missing parentheses in call to 'print'\n"
     ]
    }
   ],
   "source": [
    "print \"One vs rest accuracy: %f\""
   ]
  },
  {
   "cell_type": "code",
   "execution_count": null,
   "metadata": {
    "collapsed": true
   },
   "outputs": [],
   "source": []
  }
 ],
 "metadata": {
  "kernelspec": {
   "display_name": "Python 3",
   "language": "python",
   "name": "python3"
  },
  "language_info": {
   "codemirror_mode": {
    "name": "ipython",
    "version": 3
   },
   "file_extension": ".py",
   "mimetype": "text/x-python",
   "name": "python",
   "nbconvert_exporter": "python",
   "pygments_lexer": "ipython3",
   "version": "3.5.2"
  }
 },
 "nbformat": 4,
 "nbformat_minor": 0
}
